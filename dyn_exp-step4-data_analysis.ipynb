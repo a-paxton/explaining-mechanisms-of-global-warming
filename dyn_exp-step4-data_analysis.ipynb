{
 "cells": [
  {
   "cell_type": "markdown",
   "metadata": {},
   "source": [
    "# Dynamics of Explanation Project"
   ]
  },
  {
   "cell_type": "markdown",
   "metadata": {},
   "source": [
    "## Stage 4: Data Analysis"
   ]
  },
  {
   "cell_type": "markdown",
   "metadata": {},
   "source": [
    "This notebook is part of the \"Dynamics of Explanation\" project and runs the data analysis presented at the 2016 Annual Meeting of the Cognitive Science Society (Paxton, Abney, Castellanos, & Sepulveda, 2016)."
   ]
  },
  {
   "cell_type": "markdown",
   "metadata": {},
   "source": [
    "To run this notebook, you will need the following files:\n",
    "\n",
    "* **`./supplementary-code/libraries_and_functions-dyn_exp.r`**: Loads in necessary libraries and creates new functions for our analyses.\n",
    "* **`./data/final_analysis_data.csv`**: Unified dataframe for all analyses. *Due to ethical considerations relating to participant privacy, no participant data may be shared at this time.*"
   ]
  },
  {
   "cell_type": "markdown",
   "metadata": {},
   "source": [
    "**Table of Contents:**\n",
    "1. [Preliminaries](#Preliminaries). Reads in all necessary modules.\n",
    "1. [Data preparation](#Data-preparation). Imports and prepares data for analysis.\n"
   ]
  },
  {
   "cell_type": "markdown",
   "metadata": {},
   "source": [
    "**Written by**: A. Paxton (University of California, Berkeley)   \n",
    "**Date last modified**: 1 August 2016"
   ]
  },
  {
   "cell_type": "markdown",
   "metadata": {},
   "source": [
    "***"
   ]
  },
  {
   "cell_type": "markdown",
   "metadata": {},
   "source": [
    "# Preliminaries"
   ]
  },
  {
   "cell_type": "markdown",
   "metadata": {},
   "source": [
    "This section reads in all necessary modules.\n",
    "\n",
    "[To top.](#Dynamics-of-Explanation-Project)"
   ]
  },
  {
   "cell_type": "code",
   "execution_count": 1,
   "metadata": {
    "collapsed": true
   },
   "outputs": [],
   "source": [
    "# clear our workspace\n",
    "rm(list=ls())"
   ]
  },
  {
   "cell_type": "code",
   "execution_count": 2,
   "metadata": {
    "collapsed": false
   },
   "outputs": [],
   "source": [
    "# set intial working directory\n",
    "setwd('./')"
   ]
  },
  {
   "cell_type": "code",
   "execution_count": 3,
   "metadata": {
    "collapsed": true
   },
   "outputs": [
    {
     "name": "stderr",
     "output_type": "stream",
     "text": [
      "Loading required package: Matrix\n",
      "Warning message:\n",
      ": package ‘Matrix’ was built under R version 3.2.4Loading required package: tseriesChaos\n",
      "Loading required package: deSolve\n",
      "Warning message:\n",
      ": package ‘deSolve’ was built under R version 3.2.4\n",
      "Attaching package: ‘deSolve’\n",
      "\n",
      "The following object is masked from ‘package:graphics’:\n",
      "\n",
      "    matplot\n",
      "\n",
      "Loading required package: fields\n",
      "Warning message:\n",
      ": package ‘fields’ was built under R version 3.2.5Loading required package: spam\n",
      "Loading required package: grid\n",
      "Spam version 1.3-0 (2015-10-24) is loaded.\n",
      "Type 'help( Spam)' or 'demo( spam)' for a short introduction \n",
      "and overview of this package.\n",
      "Help for individual functions is also obtained by adding the\n",
      "suffix '.spam' to the function name, e.g. 'help( chol.spam)'.\n",
      "\n",
      "Attaching package: ‘spam’\n",
      "\n",
      "The following objects are masked from ‘package:base’:\n",
      "\n",
      "    backsolve, forwardsolve\n",
      "\n",
      "Loading required package: maps\n",
      "Warning message:\n",
      ": package ‘maps’ was built under R version 3.2.5Loading required package: plot3D\n",
      "Loading required package: pracma\n",
      "Warning message:\n",
      ": package ‘pracma’ was built under R version 3.2.5\n",
      "Attaching package: ‘pracma’\n",
      "\n",
      "The following object is masked from ‘package:deSolve’:\n",
      "\n",
      "    rk4\n",
      "\n",
      "The following objects are masked from ‘package:Matrix’:\n",
      "\n",
      "    expm, lu, tril, triu\n",
      "\n",
      "Warning message:\n",
      ": package ‘lme4’ was built under R version 3.2.5Warning message:\n",
      ": package ‘plyr’ was built under R version 3.2.5\n",
      "Attaching package: ‘plyr’\n",
      "\n",
      "The following object is masked from ‘package:maps’:\n",
      "\n",
      "    ozone\n",
      "\n",
      "Warning message:\n",
      ": package ‘dplyr’ was built under R version 3.2.5\n",
      "Attaching package: ‘dplyr’\n",
      "\n",
      "The following objects are masked from ‘package:plyr’:\n",
      "\n",
      "    arrange, count, desc, failwith, id, mutate, rename, summarise,\n",
      "    summarize\n",
      "\n",
      "The following objects are masked from ‘package:stats’:\n",
      "\n",
      "    filter, lag\n",
      "\n",
      "The following objects are masked from ‘package:base’:\n",
      "\n",
      "    intersect, setdiff, setequal, union\n",
      "\n",
      "Warning message:\n",
      ": package ‘ggplot2’ was built under R version 3.2.4\n",
      "Attaching package: ‘beepr’\n",
      "\n",
      "The following object is masked from ‘package:pracma’:\n",
      "\n",
      "    beep\n",
      "\n",
      "Loading required package: lsa\n",
      "Loading required package: SnowballC\n",
      "\n",
      "Attaching package: ‘lsa’\n",
      "\n",
      "The following object is masked from ‘package:dplyr’:\n",
      "\n",
      "    query\n",
      "\n",
      "Loading required package: rgl\n"
     ]
    }
   ],
   "source": [
    "# import the source file with all our working directories and custom functions\n",
    "source('./supplementary-code/libraries_and_functions-dyn_exp.r')"
   ]
  },
  {
   "cell_type": "markdown",
   "metadata": {},
   "source": [
    "***"
   ]
  },
  {
   "cell_type": "markdown",
   "metadata": {},
   "source": [
    "# Data preparation"
   ]
  },
  {
   "cell_type": "markdown",
   "metadata": {},
   "source": [
    "This section imports and prepares the data for analysis.\n",
    "\n",
    "[To top.](#Dynamics-of-Explanation-Project)"
   ]
  },
  {
   "cell_type": "markdown",
   "metadata": {},
   "source": [
    "***"
   ]
  },
  {
   "cell_type": "markdown",
   "metadata": {},
   "source": [
    "## Data import"
   ]
  },
  {
   "cell_type": "code",
   "execution_count": 4,
   "metadata": {
    "collapsed": true
   },
   "outputs": [
    {
     "name": "stderr",
     "output_type": "stream",
     "text": [
      "Warning message:\n",
      "In data.table::fread(\"./analysis_files/final_analysis_data.csv\", : Some columns have been read as type 'integer64' but package bit64 isn't loaded. Those columns will display as strange looking floating point data. There is no need to reload the data. Just require(bit64) to obtain the integer64 print method and print the data again."
     ]
    }
   ],
   "source": [
    "# read in the analysis file\n",
    "all_data_df2 = data.table::fread('./data/analysis_files/final_analysis_data.csv', sep=',')"
   ]
  },
  {
   "cell_type": "markdown",
   "metadata": {},
   "source": [
    "## Winnow data"
   ]
  },
  {
   "cell_type": "markdown",
   "metadata": {},
   "source": [
    "Include only saccades and fixations, then remove any participants who don't have at least 100 samples per phase."
   ]
  },
  {
   "cell_type": "code",
   "execution_count": 5,
   "metadata": {
    "collapsed": false
   },
   "outputs": [],
   "source": [
    "# keep only saccades and fixations\n",
    "all_data_df = all_data_df2 %>%\n",
    "    dplyr::filter(r_event_info == 2 | r_event_info == 3 )"
   ]
  },
  {
   "cell_type": "code",
   "execution_count": 6,
   "metadata": {
    "collapsed": false
   },
   "outputs": [],
   "source": [
    "# identify participants who had at 100 samples in both trials\n",
    "minimum_slices = all_data_df %>%\n",
    "    group_by(participant,stimulus) %>%\n",
    "    summarize(total_slices = n()) %>%\n",
    "    dplyr::filter(total_slices >= 100) %>%\n",
    "    dplyr::filter(participant %in% intersect(unique(participant[stimulus==0]),\n",
    "                                             unique(participant[stimulus==1])))"
   ]
  },
  {
   "cell_type": "code",
   "execution_count": 7,
   "metadata": {
    "collapsed": false,
    "scrolled": true
   },
   "outputs": [],
   "source": [
    "# remove participants who didn't have enough samples in both trials\n",
    "all_data_df = dplyr::filter(all_data_df, participant %in% unique(minimum_slices$participant))"
   ]
  },
  {
   "cell_type": "markdown",
   "metadata": {},
   "source": [
    "## Create plotting dataset"
   ]
  },
  {
   "cell_type": "markdown",
   "metadata": {},
   "source": [
    "In order to plot correctly, we'll need to create an interim dataset that includes all of the main terms we'll eventually use, without standardizing them."
   ]
  },
  {
   "cell_type": "code",
   "execution_count": 8,
   "metadata": {
    "collapsed": false
   },
   "outputs": [],
   "source": [
    "# create plotting subset\n",
    "plotting_df = all_data_df %>% ungroup() %>%\n",
    "\n",
    "    # reset time\n",
    "    group_by(participant,stimulus) %>%\n",
    "    mutate(r_time = r_time - min(r_time)) %>%\n",
    "    mutate(r_time = round(r_time,2)) %>%\n",
    "    ungroup() %>%\n",
    "    \n",
    "    # make sure we don't have multiple pieces of data in the same time now\n",
    "    group_by(participant,stimulus,r_time) %>%\n",
    "    arrange(time) %>%\n",
    "    dplyr::filter(row_number()==1) %>%\n",
    "    arrange(participant,time) %>%\n",
    "    ungroup() %>%\n",
    "\n",
    "    # de-select anything we don't need\n",
    "    select(-one_of(c('time','trial','timing','frame'))) %>%\n",
    "\n",
    "    # create pupil change term\n",
    "    mutate(pupil_change_r = c(0,diff(r_dia_x) / diff(r_time))) %>%\n",
    "    mutate(pupil_change_l = c(0,diff(l_dia_x) / diff(r_time))) %>%\n",
    "\n",
    "    # convert all to numeric\n",
    "    mutate_each(funs(as.numeric))"
   ]
  },
  {
   "cell_type": "code",
   "execution_count": 9,
   "metadata": {
    "collapsed": true
   },
   "outputs": [],
   "source": [
    "# save a copy as our standard df name for continuity\n",
    "all_data_df = plotting_df"
   ]
  },
  {
   "cell_type": "markdown",
   "metadata": {},
   "source": [
    "# Create first- and second-order polynomials"
   ]
  },
  {
   "cell_type": "code",
   "execution_count": 10,
   "metadata": {
    "collapsed": false
   },
   "outputs": [],
   "source": [
    "# create a dataframe with the unique time codes\n",
    "time_df = data.frame(raw_t = unique(all_data_df$r_time))"
   ]
  },
  {
   "cell_type": "code",
   "execution_count": 11,
   "metadata": {
    "collapsed": false
   },
   "outputs": [],
   "source": [
    "# create first- and second-order polynomials for them\n",
    "t = poly(time_df$raw_t + 1, 2)\n",
    "time_df[, paste(\"ot\", 1:2, sep=\"\")] = t[time_df$raw_t + 1, 1:2]"
   ]
  },
  {
   "cell_type": "code",
   "execution_count": 12,
   "metadata": {
    "collapsed": false
   },
   "outputs": [],
   "source": [
    "# join back to dataframe\n",
    "all_data_df = left_join(all_data_df,time_df, by = c(\"r_time\" = \"raw_t\"))"
   ]
  },
  {
   "cell_type": "markdown",
   "metadata": {},
   "source": [
    "## Center and standardize dynamics dataset"
   ]
  },
  {
   "cell_type": "markdown",
   "metadata": {},
   "source": [
    "In order to interpret our estimates as effect sizes, we'll need to center and standardize all variables, including the interaction terms (cf. Keith, 2008)."
   ]
  },
  {
   "cell_type": "code",
   "execution_count": 13,
   "metadata": {
    "collapsed": false
   },
   "outputs": [],
   "source": [
    "# create analysis subset\n",
    "all_data_df = all_data_df %>% ungroup() %>%\n",
    "\n",
    "    # change stimulus so that it's easier to handle with interaction terms\n",
    "    mutate(stimulus = stimulus - .5) %>%\n",
    "    \n",
    "    # create interaction terms\n",
    "    mutate(stim_change = pupil_change_r * stimulus) %>%\n",
    "    mutate(stim_pupil = r_dia_x * stimulus) %>%\n",
    "    mutate(stim_conf = cc_confidence * stimulus) %>%\n",
    "    mutate(conf_change = cc_confidence * pupil_change_r) %>%\n",
    "    mutate(conf_pupil = cc_confidence * r_dia_x) %>%\n",
    "    mutate(stim_sim = stimulus * exp_sim)"
   ]
  },
  {
   "cell_type": "code",
   "execution_count": 14,
   "metadata": {
    "collapsed": false
   },
   "outputs": [],
   "source": [
    "# create interaction terms with first-order polynomial\n",
    "ot1_int = all_data_df %>%\n",
    "    ungroup() %>%\n",
    "    mutate_each(funs(. * ot2), -c(r_time,participant,ot1)) %>%\n",
    "    setNames(paste0('ot1_', names(.)))\n",
    "ot1_int = plyr::rename(ot1_int, \n",
    "                       c(\"ot1_participant\" = \"participant\", \n",
    "                         \"ot1_ot1\" = \"ot1\",\n",
    "                         \"ot1_r_time\" = \"r_time\"))"
   ]
  },
  {
   "cell_type": "code",
   "execution_count": 15,
   "metadata": {
    "collapsed": false
   },
   "outputs": [],
   "source": [
    "# create interactions with second-order polynomial\n",
    "ot2_int = all_data_df %>%\n",
    "    ungroup() %>%\n",
    "    mutate_each(funs(. * ot2), -c(r_time,participant,ot2)) %>%\n",
    "    setNames(paste0('ot2_', names(.)))\n",
    "ot2_int = plyr::rename(ot2_int, \n",
    "                       c(\"ot2_participant\" = \"participant\", \n",
    "                         \"ot2_ot2\" = \"ot2\",\n",
    "                         \"ot2_r_time\" = \"r_time\"))"
   ]
  },
  {
   "cell_type": "code",
   "execution_count": 16,
   "metadata": {
    "collapsed": true
   },
   "outputs": [],
   "source": [
    "# join original df to first-order polynomial interaction term df\n",
    "all_data_df = merge(all_data_df,ot1_int,by=c(\"participant\"=\"participant\",\n",
    "                                             \"r_time\"=\"r_time\",\n",
    "                                             'ot1'='ot1'))\n"
   ]
  },
  {
   "cell_type": "code",
   "execution_count": 17,
   "metadata": {
    "collapsed": true
   },
   "outputs": [],
   "source": [
    "# join original df to second-order polynomial interaction term df\n",
    "all_data_df = merge(all_data_df,ot2_int, by=c(\"participant\"=\"participant\",\n",
    "                                              \"r_time\"=\"r_time\",\n",
    "                                              'ot2'=\"ot2\"))"
   ]
  },
  {
   "cell_type": "code",
   "execution_count": 18,
   "metadata": {
    "collapsed": false,
    "scrolled": false
   },
   "outputs": [],
   "source": [
    "# scale everything\n",
    "all_data_df = all_data_df %>% ungroup() %>%\n",
    "    mutate_each(funs(as.numeric(scale(.))))"
   ]
  },
  {
   "cell_type": "markdown",
   "metadata": {},
   "source": [
    "## Create aggregated dataset"
   ]
  },
  {
   "cell_type": "markdown",
   "metadata": {},
   "source": [
    "Create an aggregated dataset to explore means and standard deviations, then create separate subsets for the \"watch\" and \"explanation\" phases. Standardize each dataset separately."
   ]
  },
  {
   "cell_type": "code",
   "execution_count": 19,
   "metadata": {
    "collapsed": false
   },
   "outputs": [],
   "source": [
    "# get means of pupil size and change\n",
    "agg_df = all_data_df2 %>%\n",
    "    dplyr::filter(r_event_info == 2 | r_event_info == 3 ) %>%\n",
    "    dplyr::filter(participant %in% unique(minimum_slices$participant)) %>%\n",
    "    mutate(pupil_change_r = c(0,diff(r_dia_x) / diff(r_time))) %>%\n",
    "    mutate(pupil_change_l = c(0,diff(l_dia_x) / diff(r_time))) %>%\n",
    "    group_by(participant, stimulus) %>%\n",
    "    summarize(mean_size_r = as.numeric(mean(r_dia_x)),\n",
    "              mean_change_r = as.numeric(mean(pupil_change_r)),\n",
    "              sd_size_r = as.numeric(sd(r_dia_x)),\n",
    "              sd_change_r = as.numeric(sd(pupil_change_r)),\n",
    "              cc_exists = unique(cc_exists)[1],\n",
    "              cc_confidence = unique(cc_confidence)[1],\n",
    "              exp_sim = unique(exp_sim)[1]) %>%\n",
    "    mutate(stim_msize = mean_size_r * (stimulus-.5),\n",
    "           stim_mchange = mean_change_r * (stimulus-.5),\n",
    "           stim_ssize = sd_size_r * (stimulus-.5),\n",
    "           stim_schange = sd_change_r * (stimulus-.5))"
   ]
  },
  {
   "cell_type": "code",
   "execution_count": 20,
   "metadata": {
    "collapsed": false
   },
   "outputs": [],
   "source": [
    "# isolate and scale explanation data\n",
    "agg_exp_df = dplyr::filter(agg_df,stimulus==0)\n",
    "agg_exp_df = data.frame(scale(agg_exp_df))"
   ]
  },
  {
   "cell_type": "code",
   "execution_count": 21,
   "metadata": {
    "collapsed": true
   },
   "outputs": [],
   "source": [
    "# isolate and scale watch data\n",
    "agg_watch_df = dplyr::filter(agg_df,stimulus==1)\n",
    "agg_watch_df = data.frame(scale(agg_watch_df))"
   ]
  },
  {
   "cell_type": "code",
   "execution_count": 22,
   "metadata": {
    "collapsed": true
   },
   "outputs": [],
   "source": [
    "# scale whole aggregated df\n",
    "agg_df = data.frame(scale(agg_df))"
   ]
  },
  {
   "cell_type": "markdown",
   "metadata": {},
   "source": [
    "## Summary statistics"
   ]
  },
  {
   "cell_type": "code",
   "execution_count": 23,
   "metadata": {
    "collapsed": false,
    "scrolled": true
   },
   "outputs": [
    {
     "data": {
      "text/html": [
       "25"
      ],
      "text/latex": [
       "25"
      ],
      "text/markdown": [
       "25"
      ],
      "text/plain": [
       "[1] 25"
      ]
     },
     "execution_count": 23,
     "metadata": {},
     "output_type": "execute_result"
    }
   ],
   "source": [
    "length(unique(agg_df$participant))"
   ]
  },
  {
   "cell_type": "markdown",
   "metadata": {},
   "source": [
    "***"
   ]
  },
  {
   "cell_type": "markdown",
   "metadata": {},
   "source": [
    "# Data analysis"
   ]
  },
  {
   "cell_type": "markdown",
   "metadata": {},
   "source": [
    "Let's run the models to explore how the behavioral dynamics are related to outcome.\n",
    "\n",
    "[To top.](#Dynamics-of-Explanation-Project)"
   ]
  },
  {
   "cell_type": "markdown",
   "metadata": {},
   "source": [
    "***"
   ]
  },
  {
   "cell_type": "markdown",
   "metadata": {},
   "source": [
    "## Model 1: Attention and comprehension"
   ]
  },
  {
   "cell_type": "markdown",
   "metadata": {},
   "source": [
    "Pupil diameter can tap into attention by reflecting working memory load. How much of a participant's eventual semantic similarity can be connected to their changes in pupil diameter over time?"
   ]
  },
  {
   "cell_type": "code",
   "execution_count": 127,
   "metadata": {
    "collapsed": false
   },
   "outputs": [],
   "source": [
    "attention_comp = lmer(exp_sim ~ r_dia_x + stimulus + ot1 + ot2 +\n",
    "                        ot1_r_dia_x + ot1_stimulus +\n",
    "                        ot2_r_dia_x + ot2_stimulus + \n",
    "                        stim_pupil + ot1_ot2 + \n",
    "                        ot1_stim_pupil + ot2_stim_pupil + \n",
    "                        (1 | cc_confidence), \n",
    "                        data=all_data_df)"
   ]
  },
  {
   "cell_type": "code",
   "execution_count": 128,
   "metadata": {
    "collapsed": false
   },
   "outputs": [
    {
     "name": "stdout",
     "output_type": "stream",
     "text": [
      "\n",
      "\n",
      "|        &nbsp;        |  Estimate  |  Std..Error  |  t.value  |     p     |  sig  |\n",
      "|:--------------------:|:----------:|:------------:|:---------:|:---------:|:-----:|\n",
      "|   **(Intercept)**    | -0.002546  |   0.01642    |  -0.1551  |  0.8767   |       |\n",
      "|     **r_dia_x**      | -0.0005053 |   0.01205    | -0.04194  |  0.9665   |       |\n",
      "|     **stimulus**     |   0.1615   |   0.03922    |   4.117   | 3.835e-05 |  ***  |\n",
      "|       **ot1**        |   -640.3   |    506.3     |  -1.265   |   0.206   |       |\n",
      "|       **ot2**        |   -853.3   |    673.7     |  -1.266   |  0.2053   |       |\n",
      "|   **ot1_r_dia_x**    | -0.0007168 |    0.0122    | -0.05874  |  0.9532   |       |\n",
      "|   **ot1_stimulus**   |   0.1541   |   0.03915    |   3.937   | 8.241e-05 |  ***  |\n",
      "|   **ot2_r_dia_x**    | -0.0008471 |    0.0122    | -0.06943  |  0.9446   |       |\n",
      "|   **ot2_stimulus**   |   0.1587   |   0.03919    |   4.048   | 5.166e-05 |  ***  |\n",
      "|    **stim_pupil**    |  -0.1649   |   0.03941    |  -4.185   | 2.856e-05 |  ***  |\n",
      "|     **ot1_ot2**      |   212.9    |    167.4     |   1.272   |  0.2034   |       |\n",
      "|  **ot1_stim_pupil**  |  -0.1569   |   0.03924    |    -4     | 6.338e-05 |  ***  |\n",
      "|  **ot2_stim_pupil**  |  -0.1622   |   0.03942    |  -4.113   | 3.902e-05 |  ***  |\n",
      "\n",
      "Table: **Marginal *R*-squared: 0; Conditional *R*-squared: 0.**\n",
      "\n"
     ]
    }
   ],
   "source": [
    "pander_lme(attention_comp,stats.caption=TRUE)"
   ]
  },
  {
   "cell_type": "markdown",
   "metadata": {},
   "source": [
    "### Visualize the attention and comprehension results"
   ]
  },
  {
   "cell_type": "code",
   "execution_count": 156,
   "metadata": {
    "collapsed": false
   },
   "outputs": [],
   "source": [
    "# generate the \"watch\" half of the three-way interaction plot\n",
    "attn_comp_time_watch = ggplot(plotting_df[plotting_df$stimulus==1,], \n",
    "                            aes(x=r_time,\n",
    "                                y=r_dia_x,\n",
    "                                color=(exp_sim > mean(exp_sim)))) +\n",
    "                        stat_smooth(method = \"lm\",\n",
    "                                    formula = y ~ x + I(x^2),\n",
    "                                    size = .3,\n",
    "                                    linetype = 2,\n",
    "                                    fill = 'grey70') +\n",
    "                        geom_smooth() + \n",
    "                        coord_cartesian(ylim=c(13,17)) +\n",
    "                        xlab('Time (min)') + ylab('Pupil Diameter (in pixels)') +\n",
    "                        scale_color_manual(values=c('red3','chartreuse4'),\n",
    "                                           labels=c('Low','High'),\n",
    "                                           name = 'Comprehension\\n(Similarity)') +\n",
    "                        theme(legend.position=\"none\") +\n",
    "                        ggtitle('\"Watch\" Phase')"
   ]
  },
  {
   "cell_type": "code",
   "execution_count": 157,
   "metadata": {
    "collapsed": false
   },
   "outputs": [],
   "source": [
    "# generate the \"explanation\" half of the three-way interaction plot\n",
    "attn_comp_time_exp = ggplot(plotting_df[plotting_df$stimulus==0,], \n",
    "                            aes(x=r_time,\n",
    "                                y=r_dia_x,\n",
    "                                color=(exp_sim > mean(exp_sim)))) +\n",
    "                        stat_smooth(method = \"lm\",\n",
    "                                    formula = y ~ x + I(x^2),\n",
    "                                    size = .3,\n",
    "                                    linetype = 2,\n",
    "                                    fill = 'grey70') +                        \n",
    "                        geom_smooth() + \n",
    "                        coord_cartesian(ylim=c(13,17)) +\n",
    "                        xlab('Time (min)') + ylab(' ') +\n",
    "                        scale_color_manual(values=c('red3','chartreuse4'),\n",
    "                                           labels=c('Low','High'),\n",
    "                                           name = 'Comprehension\\n(Similarity)') +\n",
    "                        theme(legend.position=\"none\") +\n",
    "                        ggtitle('\"Explanation\" Phase')"
   ]
  },
  {
   "cell_type": "code",
   "execution_count": 158,
   "metadata": {
    "collapsed": false
   },
   "outputs": [],
   "source": [
    "# create a master legend\n",
    "master_legend = gtable_filter(ggplot_gtable(\n",
    "  ggplot_build(attn_comp_time_watch + theme(legend.position=\"bottom\"))), \n",
    "  \"guide-box\")"
   ]
  },
  {
   "cell_type": "code",
   "execution_count": 162,
   "metadata": {
    "collapsed": false
   },
   "outputs": [],
   "source": [
    "# assemble the two plots\n",
    "ggsave('./figures/attn_comp_time-dyn_exp.png',\n",
    "       units = \"in\", width = 7, height = 5,\n",
    "       grid.arrange(\n",
    "           top=textGrob(\"Comprehension by Phase\\nand Attention over Time\",\n",
    "                        gp=gpar(fontsize=14)),\n",
    "           attn_comp_time_watch,\n",
    "           attn_comp_time_exp,\n",
    "           master_legend,\n",
    "           ncol = 2,\n",
    "           heights=c(10, 1)))"
   ]
  },
  {
   "cell_type": "markdown",
   "metadata": {},
   "source": [
    "<div style=\"width:500px; height=350px\">\n",
    "![](figures/attn_comp_time-dyn_exp.png)\n",
    "</div>"
   ]
  },
  {
   "cell_type": "markdown",
   "metadata": {},
   "source": [
    "**Figure**. Plotting of the three-way interaction effects for phase (\"watch\" and \"explanation\"), attention (pupil diameter in pixels), and time on comprehension (LSA-determined similarity between explanation and stimulus). The best-fit quadratic is overlaid in the thin dotted lines of the corresponding color in each panel."
   ]
  },
  {
   "cell_type": "markdown",
   "metadata": {},
   "source": [
    "***"
   ]
  },
  {
   "cell_type": "markdown",
   "metadata": {},
   "source": [
    "## Model 2: Change in attention and comprehension"
   ]
  },
  {
   "cell_type": "code",
   "execution_count": 129,
   "metadata": {
    "collapsed": false
   },
   "outputs": [],
   "source": [
    "attn_change_comp = lmer(exp_sim ~ pupil_change_r + stimulus + ot1 + ot2 +\n",
    "                        ot1_pupil_change_r + ot2_stimulus +\n",
    "                        ot2_pupil_change_r + ot1_stimulus + \n",
    "                        stim_change + ot1_ot2 + \n",
    "                        ot1_stim_change + ot2_stim_change + \n",
    "                        (1 | cc_confidence), \n",
    "                        data=all_data_df)"
   ]
  },
  {
   "cell_type": "code",
   "execution_count": 130,
   "metadata": {
    "collapsed": false,
    "scrolled": false
   },
   "outputs": [
    {
     "name": "stdout",
     "output_type": "stream",
     "text": [
      "\n",
      "\n",
      "|          &nbsp;          |  Estimate  |  Std..Error  |  t.value  |   p    |  sig  |\n",
      "|:------------------------:|:----------:|:------------:|:---------:|:------:|:-----:|\n",
      "|     **(Intercept)**      | -0.005289  |   0.01645    |  -0.3215  | 0.7478 |       |\n",
      "|    **pupil_change_r**    | -0.002334  |   0.007599   |  -0.3071  | 0.7587 |       |\n",
      "|       **stimulus**       | -0.001312  |   0.005892   |  -0.2227  | 0.8238 |       |\n",
      "|         **ot1**          |   -767.1   |    506.8     |  -1.514   | 0.1301 |       |\n",
      "|         **ot2**          |   -1022    |    674.4     |  -1.515   | 0.1296 |       |\n",
      "|  **ot1_pupil_change_r**  | -0.002382  |   0.007581   |  -0.3142  | 0.7534 |       |\n",
      "|     **ot2_stimulus**     | -0.001298  |   0.005867   |  -0.2213  | 0.8249 |       |\n",
      "|  **ot2_pupil_change_r**  | -0.002377  |   0.007579   |  -0.3136  | 0.7538 |       |\n",
      "|     **ot1_stimulus**     | -0.001299  |   0.005867   |  -0.2214  | 0.8248 |       |\n",
      "|     **stim_change**      | 0.0001422  |   0.007623   |  0.01866  | 0.9851 |       |\n",
      "|       **ot1_ot2**        |    255     |    167.6     |   1.521   | 0.1282 |       |\n",
      "|   **ot1_stim_change**    | 1.989e-05  |   0.007576   | 0.002626  | 0.9979 |       |\n",
      "|   **ot2_stim_change**    | 7.712e-05  |   0.007602   |  0.01015  | 0.9919 |       |\n",
      "\n",
      "Table: **Marginal *R*-squared: 0; Conditional *R*-squared: 0.**\n",
      "\n"
     ]
    }
   ],
   "source": [
    "pander_lme(attn_change_comp,stats.caption=TRUE)"
   ]
  }
 ],
 "metadata": {
  "anaconda-cloud": {},
  "kernelspec": {
   "display_name": "R",
   "language": "R",
   "name": "ir"
  },
  "language_info": {
   "codemirror_mode": "r",
   "file_extension": ".r",
   "mimetype": "text/x-r-source",
   "name": "R",
   "pygments_lexer": "r",
   "version": "3.3.1"
  }
 },
 "nbformat": 4,
 "nbformat_minor": 0
}
